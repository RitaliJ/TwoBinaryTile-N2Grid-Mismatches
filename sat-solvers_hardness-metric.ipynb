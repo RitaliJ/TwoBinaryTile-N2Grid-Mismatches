{
 "cells": [
  {
   "cell_type": "code",
   "execution_count": 99,
   "metadata": {},
   "outputs": [],
   "source": [
    "from sympy import symbols\n",
    "from sympy.logic.boolalg import to_cnf\n",
    "from sympy import And, Or, Not\n",
    "import numpy as np\n",
    "import pyapproxmc"
   ]
  },
  {
   "cell_type": "code",
   "execution_count": 227,
   "metadata": {},
   "outputs": [],
   "source": [
    "def read_tiles_from_file(filename):\n",
    "    tiles_file = open(filename, \"r\")\n",
    "    glue_lines = tiles_file.readlines()\n",
    "    for i in range(len(glue_lines)):\n",
    "        glue_lines[i] = glue_lines[i].split()\n",
    "        # splits into an array of multiple tiles per position, which we can access afterwards\n",
    "    return glue_lines"
   ]
  },
  {
   "cell_type": "code",
   "execution_count": 228,
   "metadata": {},
   "outputs": [],
   "source": [
    "def variable_creator(glue_lines, n):\n",
    "    symbols_matrix = []\n",
    "    for position_ind in range(len(glue_lines)): \n",
    "        symbols_row = []\n",
    "        row = int(position_ind / n)\n",
    "        col = int(position_ind % n)\n",
    "        for tile_type_pp in range(len(glue_lines[position_ind])):\n",
    "            symbols_row += [symbols(f'T_{row}_{col}_{tile_type_pp}')]\n",
    "        symbols_matrix += [symbols_row]\n",
    "\n",
    "    return symbols_matrix"
   ]
  },
  {
   "cell_type": "code",
   "execution_count": 229,
   "metadata": {},
   "outputs": [],
   "source": [
    "tile_def = 'rand_t4pp'\n",
    "glues = read_tiles_from_file(f'./data/{tile_def}.txt')\n",
    "total_positions = len(glues)\n",
    "symbols_lines = variable_creator(glues, 5)"
   ]
  },
  {
   "cell_type": "code",
   "execution_count": 230,
   "metadata": {},
   "outputs": [],
   "source": [
    "def occupancy_clause_creator(symbols_lines):\n",
    "    position_occupancy_clauses = True\n",
    "        \n",
    "    for pos in range(total_positions):\n",
    "        pos_symbols = symbols_lines[pos]\n",
    "        presence_clause = False\n",
    "        for i in range(len(pos_symbols)):\n",
    "            presence_clause = presence_clause | pos_symbols[i]\n",
    "            for j in range(i+1, len(pos_symbols)):\n",
    "                multiple_occupancy_clause = ~pos_symbols[i] | ~pos_symbols[j]\n",
    "                position_occupancy_clauses = position_occupancy_clauses & (multiple_occupancy_clause)\n",
    "        position_occupancy_clauses = position_occupancy_clauses & presence_clause\n",
    "    print(f'Initial Formula: {position_occupancy_clauses}')\n",
    "\n",
    "    return position_occupancy_clauses\n",
    "\n",
    "    # add adjacency formulas after this by accessing the glue and comparing them...\n",
    "    # use the C code to help guide how the internal bonds are checked..."
   ]
  },
  {
   "cell_type": "code",
   "execution_count": 231,
   "metadata": {},
   "outputs": [
    {
     "name": "stdout",
     "output_type": "stream",
     "text": [
      "Initial Formula: (~T_0_0_0 | ~T_0_0_1) & (~T_0_0_0 | ~T_0_0_2) & (~T_0_0_0 | ~T_0_0_3) & (~T_0_0_1 | ~T_0_0_2) & (~T_0_0_1 | ~T_0_0_3) & (~T_0_0_2 | ~T_0_0_3) & (~T_0_1_0 | ~T_0_1_1) & (~T_0_1_0 | ~T_0_1_2) & (~T_0_1_0 | ~T_0_1_3) & (~T_0_1_1 | ~T_0_1_2) & (~T_0_1_1 | ~T_0_1_3) & (~T_0_1_2 | ~T_0_1_3) & (~T_0_2_0 | ~T_0_2_1) & (~T_0_2_0 | ~T_0_2_2) & (~T_0_2_0 | ~T_0_2_3) & (~T_0_2_1 | ~T_0_2_2) & (~T_0_2_1 | ~T_0_2_3) & (~T_0_2_2 | ~T_0_2_3) & (~T_0_3_0 | ~T_0_3_1) & (~T_0_3_0 | ~T_0_3_2) & (~T_0_3_0 | ~T_0_3_3) & (~T_0_3_1 | ~T_0_3_2) & (~T_0_3_1 | ~T_0_3_3) & (~T_0_3_2 | ~T_0_3_3) & (~T_0_4_0 | ~T_0_4_1) & (~T_0_4_0 | ~T_0_4_2) & (~T_0_4_0 | ~T_0_4_3) & (~T_0_4_1 | ~T_0_4_2) & (~T_0_4_1 | ~T_0_4_3) & (~T_0_4_2 | ~T_0_4_3) & (~T_1_0_0 | ~T_1_0_1) & (~T_1_0_0 | ~T_1_0_2) & (~T_1_0_0 | ~T_1_0_3) & (~T_1_0_1 | ~T_1_0_2) & (~T_1_0_1 | ~T_1_0_3) & (~T_1_0_2 | ~T_1_0_3) & (~T_1_1_0 | ~T_1_1_1) & (~T_1_1_0 | ~T_1_1_2) & (~T_1_1_0 | ~T_1_1_3) & (~T_1_1_1 | ~T_1_1_2) & (~T_1_1_1 | ~T_1_1_3) & (~T_1_1_2 | ~T_1_1_3) & (~T_1_2_0 | ~T_1_2_1) & (~T_1_2_0 | ~T_1_2_2) & (~T_1_2_0 | ~T_1_2_3) & (~T_1_2_1 | ~T_1_2_2) & (~T_1_2_1 | ~T_1_2_3) & (~T_1_2_2 | ~T_1_2_3) & (~T_1_3_0 | ~T_1_3_1) & (~T_1_3_0 | ~T_1_3_2) & (~T_1_3_0 | ~T_1_3_3) & (~T_1_3_1 | ~T_1_3_2) & (~T_1_3_1 | ~T_1_3_3) & (~T_1_3_2 | ~T_1_3_3) & (~T_1_4_0 | ~T_1_4_1) & (~T_1_4_0 | ~T_1_4_2) & (~T_1_4_0 | ~T_1_4_3) & (~T_1_4_1 | ~T_1_4_2) & (~T_1_4_1 | ~T_1_4_3) & (~T_1_4_2 | ~T_1_4_3) & (~T_2_0_0 | ~T_2_0_1) & (~T_2_0_0 | ~T_2_0_2) & (~T_2_0_0 | ~T_2_0_3) & (~T_2_0_1 | ~T_2_0_2) & (~T_2_0_1 | ~T_2_0_3) & (~T_2_0_2 | ~T_2_0_3) & (~T_2_1_0 | ~T_2_1_1) & (~T_2_1_0 | ~T_2_1_2) & (~T_2_1_0 | ~T_2_1_3) & (~T_2_1_1 | ~T_2_1_2) & (~T_2_1_1 | ~T_2_1_3) & (~T_2_1_2 | ~T_2_1_3) & (~T_2_2_0 | ~T_2_2_1) & (~T_2_2_0 | ~T_2_2_2) & (~T_2_2_0 | ~T_2_2_3) & (~T_2_2_1 | ~T_2_2_2) & (~T_2_2_1 | ~T_2_2_3) & (~T_2_2_2 | ~T_2_2_3) & (~T_2_3_0 | ~T_2_3_1) & (~T_2_3_0 | ~T_2_3_2) & (~T_2_3_0 | ~T_2_3_3) & (~T_2_3_1 | ~T_2_3_2) & (~T_2_3_1 | ~T_2_3_3) & (~T_2_3_2 | ~T_2_3_3) & (~T_2_4_0 | ~T_2_4_1) & (~T_2_4_0 | ~T_2_4_2) & (~T_2_4_0 | ~T_2_4_3) & (~T_2_4_1 | ~T_2_4_2) & (~T_2_4_1 | ~T_2_4_3) & (~T_2_4_2 | ~T_2_4_3) & (~T_3_0_0 | ~T_3_0_1) & (~T_3_0_0 | ~T_3_0_2) & (~T_3_0_0 | ~T_3_0_3) & (~T_3_0_1 | ~T_3_0_2) & (~T_3_0_1 | ~T_3_0_3) & (~T_3_0_2 | ~T_3_0_3) & (~T_3_1_0 | ~T_3_1_1) & (~T_3_1_0 | ~T_3_1_2) & (~T_3_1_0 | ~T_3_1_3) & (~T_3_1_1 | ~T_3_1_2) & (~T_3_1_1 | ~T_3_1_3) & (~T_3_1_2 | ~T_3_1_3) & (~T_3_2_0 | ~T_3_2_1) & (~T_3_2_0 | ~T_3_2_2) & (~T_3_2_0 | ~T_3_2_3) & (~T_3_2_1 | ~T_3_2_2) & (~T_3_2_1 | ~T_3_2_3) & (~T_3_2_2 | ~T_3_2_3) & (~T_3_3_0 | ~T_3_3_1) & (~T_3_3_0 | ~T_3_3_2) & (~T_3_3_0 | ~T_3_3_3) & (~T_3_3_1 | ~T_3_3_2) & (~T_3_3_1 | ~T_3_3_3) & (~T_3_3_2 | ~T_3_3_3) & (~T_3_4_0 | ~T_3_4_1) & (~T_3_4_0 | ~T_3_4_2) & (~T_3_4_0 | ~T_3_4_3) & (~T_3_4_1 | ~T_3_4_2) & (~T_3_4_1 | ~T_3_4_3) & (~T_3_4_2 | ~T_3_4_3) & (~T_4_0_0 | ~T_4_0_1) & (~T_4_0_0 | ~T_4_0_2) & (~T_4_0_0 | ~T_4_0_3) & (~T_4_0_1 | ~T_4_0_2) & (~T_4_0_1 | ~T_4_0_3) & (~T_4_0_2 | ~T_4_0_3) & (~T_4_1_0 | ~T_4_1_1) & (~T_4_1_0 | ~T_4_1_2) & (~T_4_1_0 | ~T_4_1_3) & (~T_4_1_1 | ~T_4_1_2) & (~T_4_1_1 | ~T_4_1_3) & (~T_4_1_2 | ~T_4_1_3) & (~T_4_2_0 | ~T_4_2_1) & (~T_4_2_0 | ~T_4_2_2) & (~T_4_2_0 | ~T_4_2_3) & (~T_4_2_1 | ~T_4_2_2) & (~T_4_2_1 | ~T_4_2_3) & (~T_4_2_2 | ~T_4_2_3) & (~T_4_3_0 | ~T_4_3_1) & (~T_4_3_0 | ~T_4_3_2) & (~T_4_3_0 | ~T_4_3_3) & (~T_4_3_1 | ~T_4_3_2) & (~T_4_3_1 | ~T_4_3_3) & (~T_4_3_2 | ~T_4_3_3) & (~T_4_4_0 | ~T_4_4_1) & (~T_4_4_0 | ~T_4_4_2) & (~T_4_4_0 | ~T_4_4_3) & (~T_4_4_1 | ~T_4_4_2) & (~T_4_4_1 | ~T_4_4_3) & (~T_4_4_2 | ~T_4_4_3) & (T_0_0_0 | T_0_0_1 | T_0_0_2 | T_0_0_3) & (T_0_1_0 | T_0_1_1 | T_0_1_2 | T_0_1_3) & (T_0_2_0 | T_0_2_1 | T_0_2_2 | T_0_2_3) & (T_0_3_0 | T_0_3_1 | T_0_3_2 | T_0_3_3) & (T_0_4_0 | T_0_4_1 | T_0_4_2 | T_0_4_3) & (T_1_0_0 | T_1_0_1 | T_1_0_2 | T_1_0_3) & (T_1_1_0 | T_1_1_1 | T_1_1_2 | T_1_1_3) & (T_1_2_0 | T_1_2_1 | T_1_2_2 | T_1_2_3) & (T_1_3_0 | T_1_3_1 | T_1_3_2 | T_1_3_3) & (T_1_4_0 | T_1_4_1 | T_1_4_2 | T_1_4_3) & (T_2_0_0 | T_2_0_1 | T_2_0_2 | T_2_0_3) & (T_2_1_0 | T_2_1_1 | T_2_1_2 | T_2_1_3) & (T_2_2_0 | T_2_2_1 | T_2_2_2 | T_2_2_3) & (T_2_3_0 | T_2_3_1 | T_2_3_2 | T_2_3_3) & (T_2_4_0 | T_2_4_1 | T_2_4_2 | T_2_4_3) & (T_3_0_0 | T_3_0_1 | T_3_0_2 | T_3_0_3) & (T_3_1_0 | T_3_1_1 | T_3_1_2 | T_3_1_3) & (T_3_2_0 | T_3_2_1 | T_3_2_2 | T_3_2_3) & (T_3_3_0 | T_3_3_1 | T_3_3_2 | T_3_3_3) & (T_3_4_0 | T_3_4_1 | T_3_4_2 | T_3_4_3) & (T_4_0_0 | T_4_0_1 | T_4_0_2 | T_4_0_3) & (T_4_1_0 | T_4_1_1 | T_4_1_2 | T_4_1_3) & (T_4_2_0 | T_4_2_1 | T_4_2_2 | T_4_2_3) & (T_4_3_0 | T_4_3_1 | T_4_3_2 | T_4_3_3) & (T_4_4_0 | T_4_4_1 | T_4_4_2 | T_4_4_3)\n"
     ]
    }
   ],
   "source": [
    "occupancy_clauses = occupancy_clause_creator(symbols_lines)"
   ]
  },
  {
   "cell_type": "code",
   "execution_count": 232,
   "metadata": {},
   "outputs": [],
   "source": [
    "# input a negative value for mismatch_loc if you are looking for the tiling with no mismatches\n",
    "def adjacency_clause_creator(symbols_lines, glue_lines, n, mismatch_loc):\n",
    "    apply_mismatch = False\n",
    "    if (mismatch_loc >= 0):\n",
    "        apply_mismatch = True\n",
    "    mismatch_row = int(mismatch_loc / (2 * n - 1))\n",
    "    loc = mismatch_loc % (2 * n - 1)\n",
    "    mismatch_col = loc\n",
    "    if (loc > n - 2):\n",
    "        mismatch_col = loc - n + 1\n",
    "\n",
    "    adjacency_clauses = True\n",
    "    for pos in range(total_positions):\n",
    "        row = int(pos / n)\n",
    "        col = int(pos % n) \n",
    "        for tile_type_pp in range(len(symbols_lines[pos])):\n",
    "            nesw = glue_lines[pos][tile_type_pp]\n",
    "            curr_south = nesw[2]\n",
    "            curr_east = nesw[1]\n",
    "\n",
    "            if row < n - 1:\n",
    "                for bot_tile_type_pp in range(len(symbols_lines[pos + n])):\n",
    "                    bot_nesw = glue_lines[pos + n][bot_tile_type_pp]\n",
    "                    bot_north = bot_nesw[0]\n",
    "                    if (apply_mismatch and row == mismatch_row and col == mismatch_col and loc > n - 2):\n",
    "                        # enforce a mismatch in this position (south bond of mismatch row and mismatch col)\n",
    "                        if (curr_south == bot_north):\n",
    "                            adjacency_clauses = adjacency_clauses & (~symbols_lines[pos][tile_type_pp] | ~symbols_lines[pos + n][bot_tile_type_pp])\n",
    "                    else:\n",
    "                        if (curr_south != bot_north):\n",
    "                            adjacency_clauses = adjacency_clauses & (~symbols_lines[pos][tile_type_pp] | ~symbols_lines[pos + n][bot_tile_type_pp])\n",
    "            if col < n - 1:\n",
    "                for right_tile_type_pp in range(len(symbols_lines[pos + 1])):\n",
    "                    right_nesw = glue_lines[pos + 1][right_tile_type_pp]\n",
    "                    right_west = right_nesw[3]\n",
    "                    if (apply_mismatch and row == mismatch_row and col == mismatch_col and loc < n - 1):\n",
    "                        # enforce a mismatch in this position (right bond of mismatch row and mismatch col)\n",
    "                        if (curr_east == right_west):\n",
    "                            adjacency_clauses = adjacency_clauses & (~symbols_lines[pos][tile_type_pp] | ~symbols_lines[pos + 1][right_tile_type_pp])\n",
    "                    else:\n",
    "                        if (curr_east != right_west):\n",
    "                            adjacency_clauses = adjacency_clauses & (~symbols_lines[pos][tile_type_pp] | ~symbols_lines[pos + 1][right_tile_type_pp])\n",
    "    return adjacency_clauses"
   ]
  },
  {
   "cell_type": "code",
   "execution_count": 233,
   "metadata": {},
   "outputs": [],
   "source": [
    "adjacency_clauses = adjacency_clause_creator(symbols_lines, glues, 5, -1)"
   ]
  },
  {
   "cell_type": "code",
   "execution_count": 234,
   "metadata": {},
   "outputs": [],
   "source": [
    "valid_tiling_formula = occupancy_clauses & adjacency_clauses"
   ]
  },
  {
   "cell_type": "code",
   "execution_count": 235,
   "metadata": {},
   "outputs": [],
   "source": [
    "mismatch_tiling_formulas = [occupancy_clauses & adjacency_clause_creator(symbols_lines, glues, 5, i) for i in range(40)]"
   ]
  },
  {
   "cell_type": "code",
   "execution_count": 236,
   "metadata": {},
   "outputs": [],
   "source": [
    "def sympy_to_pyapproxmc(sympy_cnf, symbols_list):\n",
    "    # Create a mapping from SymPy symbols to integers\n",
    "    symbol_to_int = {str(symbol): i + 1 for i, symbol in enumerate(symbols_list)}\n",
    "    clauses = []\n",
    "\n",
    "    # Helper function to convert SymPy literal to pyapproxmc literal\n",
    "    def literal_to_pyapproxmc(literal):\n",
    "        if literal.is_Symbol:\n",
    "            return symbol_to_int[str(literal)]\n",
    "        elif literal.func == Not:\n",
    "            return -symbol_to_int[str(literal.args[0])]\n",
    "        else:\n",
    "            raise ValueError(\"Unexpected literal type\")\n",
    "\n",
    "    # Process the CNF clauses\n",
    "    if sympy_cnf.func == And:\n",
    "        cnf_clauses = sympy_cnf.args\n",
    "    else:\n",
    "        cnf_clauses = [sympy_cnf]\n",
    "\n",
    "    for clause in cnf_clauses:\n",
    "        if clause.func == Or:\n",
    "            pyapproxmc_clause = [literal_to_pyapproxmc(lit) for lit in clause.args]\n",
    "        else:\n",
    "            pyapproxmc_clause = [literal_to_pyapproxmc(clause)]\n",
    "        clauses.append(pyapproxmc_clause)\n",
    "\n",
    "    return clauses"
   ]
  },
  {
   "cell_type": "code",
   "execution_count": 237,
   "metadata": {},
   "outputs": [],
   "source": [
    "def approximate_solutions(tiling_formula, symbols_lines, i):\n",
    "    cnf_formula = to_cnf(tiling_formula)\n",
    "    pyapproxmc_clauses = sympy_to_pyapproxmc(cnf_formula, np.ravel(symbols_lines))\n",
    "    # Count solutions using pyapproxmc\n",
    "    counter = pyapproxmc.Counter()\n",
    "    counter.add_clauses(pyapproxmc_clauses)\n",
    "    num_solutions = counter.count()\n",
    "    # print(f'Approximate number of solutions: {num_solutions}')\n",
    "    print(\"%s: Approximate count is: %d*2**%d\" % (str(i), num_solutions[0], num_solutions[1]))\n",
    "    return num_solutions"
   ]
  },
  {
   "cell_type": "code",
   "execution_count": 238,
   "metadata": {},
   "outputs": [
    {
     "name": "stdout",
     "output_type": "stream",
     "text": [
      "Valid tiling: Approximate count is: 0*2**0\n"
     ]
    },
    {
     "data": {
      "text/plain": [
       "(0, 0)"
      ]
     },
     "execution_count": 238,
     "metadata": {},
     "output_type": "execute_result"
    }
   ],
   "source": [
    "approximate_solutions(valid_tiling_formula, symbols_lines, 'Valid tiling')"
   ]
  },
  {
   "cell_type": "code",
   "execution_count": 239,
   "metadata": {},
   "outputs": [
    {
     "name": "stdout",
     "output_type": "stream",
     "text": [
      "0: Approximate count is: 0*2**0\n",
      "1: Approximate count is: 0*2**0\n",
      "2: Approximate count is: 0*2**0\n",
      "3: Approximate count is: 0*2**0\n",
      "4: Approximate count is: 0*2**0\n",
      "5: Approximate count is: 0*2**0\n",
      "6: Approximate count is: 0*2**0\n",
      "7: Approximate count is: 0*2**0\n",
      "8: Approximate count is: 0*2**0\n",
      "9: Approximate count is: 0*2**0\n",
      "10: Approximate count is: 0*2**0\n",
      "11: Approximate count is: 0*2**0\n",
      "12: Approximate count is: 0*2**0\n",
      "13: Approximate count is: 0*2**0\n",
      "14: Approximate count is: 0*2**0\n",
      "15: Approximate count is: 0*2**0\n",
      "16: Approximate count is: 0*2**0\n",
      "17: Approximate count is: 0*2**0\n",
      "18: Approximate count is: 0*2**0\n",
      "19: Approximate count is: 0*2**0\n",
      "20: Approximate count is: 0*2**0\n",
      "21: Approximate count is: 0*2**0\n",
      "22: Approximate count is: 0*2**0\n",
      "23: Approximate count is: 0*2**0\n",
      "24: Approximate count is: 0*2**0\n",
      "25: Approximate count is: 0*2**0\n",
      "26: Approximate count is: 0*2**0\n",
      "27: Approximate count is: 0*2**0\n",
      "28: Approximate count is: 0*2**0\n",
      "29: Approximate count is: 0*2**0\n",
      "30: Approximate count is: 0*2**0\n",
      "31: Approximate count is: 0*2**0\n",
      "32: Approximate count is: 0*2**0\n",
      "33: Approximate count is: 0*2**0\n",
      "34: Approximate count is: 0*2**0\n",
      "35: Approximate count is: 0*2**0\n",
      "36: Approximate count is: 0*2**0\n",
      "37: Approximate count is: 0*2**0\n",
      "38: Approximate count is: 0*2**0\n",
      "39: Approximate count is: 0*2**0\n",
      "0\n"
     ]
    }
   ],
   "source": [
    "one_mismatch_tilings_out = [approximate_solutions(mismatch_tiling_formulas[i], symbols_lines, i) for i in range(len(mismatch_tiling_formulas))]\n",
    "one_mismatch_tilings = [out[0] * 2 ** out[1]for out in one_mismatch_tilings_out]\n",
    "print(np.sum(one_mismatch_tilings))"
   ]
  },
  {
   "cell_type": "markdown",
   "metadata": {},
   "source": []
  },
  {
   "cell_type": "code",
   "execution_count": 161,
   "metadata": {},
   "outputs": [],
   "source": [
    "def sympy_to_dimacs(sympy_cnf, symbols_list):\n",
    "    # Create a mapping from SymPy symbols to integers\n",
    "    symbol_to_int = {str(symbol): i + 1 for i, symbol in enumerate(symbols_list)}\n",
    "    dimacs_clauses = []\n",
    "\n",
    "    # Helper function to convert SymPy literal to DIMACS literal\n",
    "    def literal_to_dimacs(literal):\n",
    "        if literal.is_Symbol:\n",
    "            return symbol_to_int[str(literal)]\n",
    "        elif literal.func == Not:\n",
    "            return -symbol_to_int[str(literal.args[0])]\n",
    "        else:\n",
    "            raise ValueError(\"Unexpected literal type\")\n",
    "\n",
    "    # Process the CNF clauses\n",
    "    if sympy_cnf.func == And:\n",
    "        clauses = sympy_cnf.args\n",
    "    else:\n",
    "        clauses = [sympy_cnf]\n",
    "\n",
    "    for clause in clauses:\n",
    "        if clause.func == Or:\n",
    "            dimacs_clause = [literal_to_dimacs(lit) for lit in clause.args]\n",
    "        else:\n",
    "            dimacs_clause = [literal_to_dimacs(clause)]\n",
    "        dimacs_clauses.append(dimacs_clause)\n",
    "\n",
    "    # Generate DIMACS string\n",
    "    num_vars = len(symbols_list)\n",
    "    num_clauses = len(dimacs_clauses)\n",
    "    dimacs_str = f'p cnf {num_vars} {num_clauses}\\n'\n",
    "    for clause in dimacs_clauses:\n",
    "        dimacs_str += ' '.join(map(str, clause)) + ' 0\\n'\n",
    "\n",
    "    return dimacs_str"
   ]
  },
  {
   "cell_type": "code",
   "execution_count": 162,
   "metadata": {},
   "outputs": [],
   "source": [
    "# # Convert SymPy CNF to PySAT CNF/\n",
    "# dimacs_cnf = sympy_to_dimacs(cnf_valid_tiling_formula, np.ravel(symbols_lines))\n",
    "# print(dimacs_cnf)"
   ]
  },
  {
   "cell_type": "code",
   "execution_count": 163,
   "metadata": {},
   "outputs": [],
   "source": [
    "# Save DIMACS to a temporary file\n",
    "# with open('single-yes-t2pp.cnf', 'w') as f:\n",
    "#     f.write(dimacs_cnf)"
   ]
  }
 ],
 "metadata": {
  "kernelspec": {
   "display_name": "researchenv",
   "language": "python",
   "name": "python3"
  },
  "language_info": {
   "codemirror_mode": {
    "name": "ipython",
    "version": 3
   },
   "file_extension": ".py",
   "mimetype": "text/x-python",
   "name": "python",
   "nbconvert_exporter": "python",
   "pygments_lexer": "ipython3",
   "version": "3.10.2"
  }
 },
 "nbformat": 4,
 "nbformat_minor": 2
}
